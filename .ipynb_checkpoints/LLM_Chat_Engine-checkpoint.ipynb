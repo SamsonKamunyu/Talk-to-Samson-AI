{
 "cells": [
  {
   "cell_type": "code",
   "execution_count": 1,
   "id": "f3e4efea-3f86-4cfd-84f5-c1b603e0858b",
   "metadata": {},
   "outputs": [],
   "source": [
    "# pip install -U :class:`~langchain-openai`"
   ]
  },
  {
   "cell_type": "code",
   "execution_count": 2,
   "id": "ca96b877-1857-4f6c-b572-17ae5e033eb7",
   "metadata": {},
   "outputs": [],
   "source": [
    "# Importing working libraries\n",
    "from langchain_openai import ChatOpenAI\n",
    "from langchain.chat_models import ChatOpenAI\n",
    "from langchain.schema import SystemMessage, HumanMessage\n",
    "#import as `from :class:`~langchain_openai import ChatOpenAI``\n",
    "import json"
   ]
  },
  {
   "cell_type": "code",
   "execution_count": 3,
   "id": "021197d4-8fe8-4207-8537-7353e317e62b",
   "metadata": {},
   "outputs": [],
   "source": [
    "# Loading the persona prompt\n",
    "with open(\"/home/samson-kamunyu/Documents/Python/Samson_AI/Talk-to-Samson-AI/Prompts/persona_prompt.txt\", \"r\") as f:\n",
    "    persona_prompt = f.read()"
   ]
  },
  {
   "cell_type": "code",
   "execution_count": 4,
   "id": "b2b54c80-525e-4cf2-9a0e-43630fd605f7",
   "metadata": {},
   "outputs": [],
   "source": [
    "# Loading the processed training dataset\n",
    "with open(\"/home/samson-kamunyu/Documents/Python/Samson_AI/Talk-to-Samson-AI/Raw Data/Text Files-Processed/combined-dataset.json\", \"r\") as f:\n",
    "    samples = json.load(f)"
   ]
  },
  {
   "cell_type": "code",
   "execution_count": 5,
   "id": "fdcb6c04-92c1-4139-a8c4-d6f9b1ac7ede",
   "metadata": {},
   "outputs": [
    {
     "name": "stderr",
     "output_type": "stream",
     "text": [
      "/tmp/ipykernel_82337/2803882879.py:2: LangChainDeprecationWarning: The class `ChatOpenAI` was deprecated in LangChain 0.0.10 and will be removed in 1.0. An updated version of the class exists in the :class:`~langchain-openai package and should be used instead. To use it run `pip install -U :class:`~langchain-openai` and import as `from :class:`~langchain_openai import ChatOpenAI``.\n",
      "  llm = ChatOpenAI(temperature=0.7, model_name=\"gpt-4\")\n"
     ]
    }
   ],
   "source": [
    "# Create chatbot\n",
    "llm = ChatOpenAI(temperature=0.7, model_name=\"gpt-4\")\n",
    "\n",
    "def get_response(user_input):\n",
    "    messages = [\n",
    "        SystemMessage(content=persona_prompt),\n",
    "        HumanMessage(content=user_input)\n",
    "    ]\n",
    "    response = llm(messages)\n",
    "    return response.content"
   ]
  }
 ],
 "metadata": {
  "kernelspec": {
   "display_name": "Python 3 (ipykernel)",
   "language": "python",
   "name": "python3"
  },
  "language_info": {
   "codemirror_mode": {
    "name": "ipython",
    "version": 3
   },
   "file_extension": ".py",
   "mimetype": "text/x-python",
   "name": "python",
   "nbconvert_exporter": "python",
   "pygments_lexer": "ipython3",
   "version": "3.12.7"
  }
 },
 "nbformat": 4,
 "nbformat_minor": 5
}
