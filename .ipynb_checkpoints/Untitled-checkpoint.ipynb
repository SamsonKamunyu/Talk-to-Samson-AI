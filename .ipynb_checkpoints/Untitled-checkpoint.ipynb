{
 "cells": [
  {
   "cell_type": "code",
   "execution_count": null,
   "id": "19368347-a020-4a3a-a976-53cfe49ef37f",
   "metadata": {},
   "outputs": [],
   "source": [
    "# voice_bark.py\n",
    "from bark import generate_audio, SAMPLE_RATE\n",
    "from scipy.io.wavfile import write\n",
    "import os\n",
    "\n",
    "def speak_as_samson(text, output_path=\"output_samson.wav\"):\n",
    "    audio_array = generate_audio(text)\n",
    "    write(output_path, SAMPLE_RATE, audio_array)\n",
    "    os.system(f\"ffplay -nodisp -autoexit {output_path}\")"
   ]
  },
  {
   "cell_type": "code",
   "execution_count": null,
   "id": "b00a926d-9779-416e-927d-a33157375a97",
   "metadata": {},
   "outputs": [],
   "source": [
    "from bark import generate_audio, SAMPLE_RATE\n",
    "from IPython.display import Audio\n",
    "# Then in your function:\n",
    "audio_array = generate_audio(text)\n",
    "audio = Audio(audio_array, rate=SAMPLE_RATE)\n",
    "return audio  # Display this in the notebook"
   ]
  },
  {
   "cell_type": "code",
   "execution_count": null,
   "id": "4d05977a-e8a6-45fb-ab16-07d3fe129e6f",
   "metadata": {},
   "outputs": [],
   "source": []
  }
 ],
 "metadata": {
  "kernelspec": {
   "display_name": "Python [conda env:base] *",
   "language": "python",
   "name": "conda-base-py"
  },
  "language_info": {
   "codemirror_mode": {
    "name": "ipython",
    "version": 3
   },
   "file_extension": ".py",
   "mimetype": "text/x-python",
   "name": "python",
   "nbconvert_exporter": "python",
   "pygments_lexer": "ipython3",
   "version": "3.12.7"
  }
 },
 "nbformat": 4,
 "nbformat_minor": 5
}
