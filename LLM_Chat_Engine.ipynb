{
 "cells": [
  {
   "cell_type": "code",
   "execution_count": null,
   "id": "f3e4efea-3f86-4cfd-84f5-c1b603e0858b",
   "metadata": {},
   "outputs": [],
   "source": [
    "# pip install -U :class:`~langchain-openai`"
   ]
  },
  {
   "cell_type": "code",
   "execution_count": null,
   "id": "ca96b877-1857-4f6c-b572-17ae5e033eb7",
   "metadata": {},
   "outputs": [],
   "source": [
    "# Importing working libraries\n",
    "from langchain_openai import ChatOpenAI\n",
    "from langchain.chat_models import ChatOpenAI\n",
    "from langchain.schema import SystemMessage, HumanMessage\n",
    "#import as `from :class:`~langchain_openai import ChatOpenAI``\n",
    "import json"
   ]
  },
  {
   "cell_type": "code",
   "execution_count": null,
   "id": "021197d4-8fe8-4207-8537-7353e317e62b",
   "metadata": {},
   "outputs": [],
   "source": [
    "# Loading the persona prompt\n",
    "with open(\"/home/samson-kamunyu/Documents/Python/Samson_AI/Talk-to-Samson-AI/Prompts/persona_prompt.txt\", \"r\") as f:\n",
    "    persona_prompt = f.read()"
   ]
  },
  {
   "cell_type": "code",
   "execution_count": null,
   "id": "b2b54c80-525e-4cf2-9a0e-43630fd605f7",
   "metadata": {},
   "outputs": [],
   "source": [
    "# Loading the processed training dataset\n",
    "with open(\"/home/samson-kamunyu/Documents/Python/Samson_AI/Talk-to-Samson-AI/Raw Data/Text Files-Processed/combined-dataset.json\", \"r\") as f:\n",
    "    samples = json.load(f)"
   ]
  },
  {
   "cell_type": "code",
   "execution_count": null,
   "id": "fdcb6c04-92c1-4139-a8c4-d6f9b1ac7ede",
   "metadata": {},
   "outputs": [],
   "source": [
    "# Create chatbot\n",
    "llm = ChatOpenAI(temperature=0.7, model_name=\"gpt-4\")\n",
    "\n",
    "def get_response(user_input):\n",
    "    messages = [\n",
    "        SystemMessage(content=persona_prompt),\n",
    "        HumanMessage(content=user_input)\n",
    "    ]\n",
    "    response = llm(messages)\n",
    "    return response.content"
   ]
  },
  {
   "cell_type": "markdown",
   "id": "119d2d96-3dc3-4e87-90cd-2f94b54d8904",
   "metadata": {},
   "source": [
    "## Alternative for ElevenLabs"
   ]
  },
  {
   "cell_type": "code",
   "execution_count": null,
   "id": "8a5133dc-600c-4d5a-8d8e-0a163e8eb1d9",
   "metadata": {},
   "outputs": [],
   "source": [
    "# pip install bark"
   ]
  },
  {
   "cell_type": "code",
   "execution_count": 1,
   "id": "a5e135c8-35ad-429e-b547-c45715cb32a0",
   "metadata": {},
   "outputs": [
    {
     "ename": "ModuleNotFoundError",
     "evalue": "No module named 'bark'",
     "output_type": "error",
     "traceback": [
      "\u001b[0;31m---------------------------------------------------------------------------\u001b[0m",
      "\u001b[0;31mModuleNotFoundError\u001b[0m                       Traceback (most recent call last)",
      "Cell \u001b[0;32mIn[1], line 1\u001b[0m\n\u001b[0;32m----> 1\u001b[0m \u001b[38;5;28;01mfrom\u001b[39;00m \u001b[38;5;21;01mbark\u001b[39;00m \u001b[38;5;28;01mimport\u001b[39;00m SAMPLE_RATE, generate_audio\n\u001b[1;32m      2\u001b[0m \u001b[38;5;28;01mfrom\u001b[39;00m \u001b[38;5;21;01mscipy\u001b[39;00m\u001b[38;5;21;01m.\u001b[39;00m\u001b[38;5;21;01mio\u001b[39;00m\u001b[38;5;21;01m.\u001b[39;00m\u001b[38;5;21;01mwavfile\u001b[39;00m \u001b[38;5;28;01mimport\u001b[39;00m write\n\u001b[1;32m      4\u001b[0m text_prompt \u001b[38;5;241m=\u001b[39m \u001b[38;5;124m\"\u001b[39m\u001b[38;5;124mHey, it’s Samson. Chill, relax, sleep then get back on it ASAP!\u001b[39m\u001b[38;5;124m\"\u001b[39m\n",
      "\u001b[0;31mModuleNotFoundError\u001b[0m: No module named 'bark'"
     ]
    }
   ],
   "source": [
    "from bark import SAMPLE_RATE, generate_audio\n",
    "from scipy.io.wavfile import write\n",
    "\n",
    "text_prompt = \"Hey, it’s Samson. Chill, relax, sleep then get back on it ASAP!\"\n",
    "audio_array = generate_audio(text_prompt)\n",
    "\n",
    "write(\"samson_output.wav\", SAMPLE_RATE, audio_array)"
   ]
  },
  {
   "cell_type": "code",
   "execution_count": null,
   "id": "79081da4-4d1c-4f4e-ad5a-bf6fe28816ce",
   "metadata": {},
   "outputs": [],
   "source": []
  }
 ],
 "metadata": {
  "kernelspec": {
   "display_name": "Python 3 (ipykernel)",
   "language": "python",
   "name": "python3"
  },
  "language_info": {
   "codemirror_mode": {
    "name": "ipython",
    "version": 3
   },
   "file_extension": ".py",
   "mimetype": "text/x-python",
   "name": "python",
   "nbconvert_exporter": "python",
   "pygments_lexer": "ipython3",
   "version": "3.12.7"
  }
 },
 "nbformat": 4,
 "nbformat_minor": 5
}
